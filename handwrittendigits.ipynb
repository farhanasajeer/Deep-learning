{
  "nbformat": 4,
  "nbformat_minor": 0,
  "metadata": {
    "colab": {
      "name": "handwrittendigits.ipynb",
      "provenance": []
    },
    "kernelspec": {
      "name": "python3",
      "display_name": "Python 3"
    },
    "language_info": {
      "name": "python"
    }
  },
  "cells": [
    {
      "cell_type": "code",
      "execution_count": null,
      "metadata": {
        "id": "UX7TfXt5ttju"
      },
      "outputs": [],
      "source": [
        "import tensorflow as tf\n",
        "from tensorflow.keras import datasets, layers, models\n",
        "import matplotlib.pyplot as plt\n",
        "import numpy as np\n"
      ]
    },
    {
      "cell_type": "code",
      "source": [
        "(X_train, y_train),(X_test,y_test) = datasets.mnist.load_data()"
      ],
      "metadata": {
        "id": "HvVnR82hufUL"
      },
      "execution_count": null,
      "outputs": []
    },
    {
      "cell_type": "code",
      "source": [
        "X_train.shape"
      ],
      "metadata": {
        "colab": {
          "base_uri": "https://localhost:8080/"
        },
        "id": "tYzcgpyguiGn",
        "outputId": "581bde5b-dacd-45d0-98c2-5cd9e3d54e95"
      },
      "execution_count": null,
      "outputs": [
        {
          "output_type": "execute_result",
          "data": {
            "text/plain": [
              "(60000, 28, 28)"
            ]
          },
          "metadata": {},
          "execution_count": 68
        }
      ]
    },
    {
      "cell_type": "code",
      "source": [
        "X_test.shape"
      ],
      "metadata": {
        "colab": {
          "base_uri": "https://localhost:8080/"
        },
        "id": "FBM9HkWAutJK",
        "outputId": "c67ac2e4-a253-450c-8437-8597ad23e859"
      },
      "execution_count": null,
      "outputs": [
        {
          "output_type": "execute_result",
          "data": {
            "text/plain": [
              "(10000, 28, 28)"
            ]
          },
          "metadata": {},
          "execution_count": 69
        }
      ]
    },
    {
      "cell_type": "code",
      "source": [
        "y_train.shape"
      ],
      "metadata": {
        "colab": {
          "base_uri": "https://localhost:8080/"
        },
        "id": "BwQtMnBHvwCj",
        "outputId": "2ad17d0b-ac09-4409-b576-a62cac90a538"
      },
      "execution_count": null,
      "outputs": [
        {
          "output_type": "execute_result",
          "data": {
            "text/plain": [
              "(60000,)"
            ]
          },
          "metadata": {},
          "execution_count": 70
        }
      ]
    },
    {
      "cell_type": "code",
      "source": [
        "y_train[:5]"
      ],
      "metadata": {
        "colab": {
          "base_uri": "https://localhost:8080/"
        },
        "id": "TDY_DnRMv4NH",
        "outputId": "d0f8b312-2b50-49ec-808c-9147708d611e"
      },
      "execution_count": null,
      "outputs": [
        {
          "output_type": "execute_result",
          "data": {
            "text/plain": [
              "array([5, 0, 4, 1, 9], dtype=uint8)"
            ]
          },
          "metadata": {},
          "execution_count": 71
        }
      ]
    },
    {
      "cell_type": "code",
      "source": [
        "y_train=y_train.reshape(-1,)\n",
        "y_train[:5]"
      ],
      "metadata": {
        "colab": {
          "base_uri": "https://localhost:8080/"
        },
        "id": "uQ9qQv2WwBbe",
        "outputId": "0c902e58-b278-4f4e-df35-529da95a8bdd"
      },
      "execution_count": null,
      "outputs": [
        {
          "output_type": "execute_result",
          "data": {
            "text/plain": [
              "array([5, 0, 4, 1, 9], dtype=uint8)"
            ]
          },
          "metadata": {},
          "execution_count": 72
        }
      ]
    },
    {
      "cell_type": "code",
      "source": [
        "y_test = y_test.reshape(-1,)"
      ],
      "metadata": {
        "id": "al1mTwYKwFJB"
      },
      "execution_count": null,
      "outputs": []
    },
    {
      "cell_type": "code",
      "source": [
        ""
      ],
      "metadata": {
        "id": "kmZCKIFmwlSn"
      },
      "execution_count": null,
      "outputs": []
    },
    {
      "cell_type": "code",
      "source": [
        "# def plot_sample(X,y, index):\n",
        "#   plt.figure(figsize=(15,2))\n",
        "#   plt.imshow(X[index])\n",
        "#   plt.xlabel(classes[y[index]])"
      ],
      "metadata": {
        "id": "hXpFtgKDwKCl"
      },
      "execution_count": null,
      "outputs": []
    },
    {
      "cell_type": "code",
      "source": [
        "# plot_sample(X_train,y_train,0)"
      ],
      "metadata": {
        "id": "gUK-lk9JwfeU"
      },
      "execution_count": null,
      "outputs": []
    },
    {
      "cell_type": "code",
      "source": [
        "plt.matshow(X_test[0])"
      ],
      "metadata": {
        "colab": {
          "base_uri": "https://localhost:8080/",
          "height": 292
        },
        "id": "1U0ghITJwieX",
        "outputId": "89189976-7ac1-46cc-bd03-b179bfeaa64f"
      },
      "execution_count": null,
      "outputs": [
        {
          "output_type": "execute_result",
          "data": {
            "text/plain": [
              "<matplotlib.image.AxesImage at 0x7f386fa23490>"
            ]
          },
          "metadata": {},
          "execution_count": 76
        },
        {
          "output_type": "display_data",
          "data": {
            "text/plain": [
              "<Figure size 288x288 with 1 Axes>"
            ],
            "image/png": "[encoded data removed]"
          },
          "metadata": {
            "needs_background": "light"
          }
        }
      ]
    },
    {
      "cell_type": "code",
      "source": [
        "X_train = X_train /255.0\n",
        "X_test = X_test / 255.0"
      ],
      "metadata": {
        "id": "Uhox5zCVxAnl"
      },
      "execution_count": null,
      "outputs": []
    },
    {
      "cell_type": "code",
      "source": [
        "# X_train[0]"
      ],
      "metadata": {
        "id": "EJblOGrYyowI"
      },
      "execution_count": null,
      "outputs": []
    },
    {
      "cell_type": "code",
      "source": [
        "# X_train_flattened = X_train.reshape(len(X_train), 28*28)\n",
        "# X_test_flattened = X_test.reshape(len(X_test), 28*28)"
      ],
      "metadata": {
        "id": "xGZSVc4byvu6"
      },
      "execution_count": null,
      "outputs": []
    },
    {
      "cell_type": "code",
      "source": [
        ""
      ],
      "metadata": {
        "id": "fHNpyIvwyvji"
      },
      "execution_count": null,
      "outputs": []
    },
    {
      "cell_type": "code",
      "source": [
        "ann = models.Sequential([\n",
        "                        layers.Flatten(input_shape=(28,28)),\n",
        "                        layers.Dense(3000, activation='relu'),\n",
        "                        layers.Dense(1000, activation='relu'),\n",
        "                        layers.Dense(10, activation='softmax')\n",
        "])\n",
        "\n",
        "\n",
        "ann.compile(optimizer='SGD',\n",
        "            loss='sparse_categorical_crossentropy',\n",
        "            metrics=['accuracy'])\n",
        "\n",
        "ann.fit(X_train,y_train, epochs=5)"
      ],
      "metadata": {
        "colab": {
          "base_uri": "https://localhost:8080/"
        },
        "id": "Pg6NveMYxOUi",
        "outputId": "05b278fb-aa9e-447e-a300-d2eb99b7142b"
      },
      "execution_count": null,
      "outputs": [
        {
          "output_type": "stream",
          "name": "stdout",
          "text": [
            "Epoch 1/5\n",
            "1875/1875 [==============================] - 67s 36ms/step - loss: 0.4982 - accuracy: 0.8803\n",
            "Epoch 2/5\n",
            "1875/1875 [==============================] - 67s 36ms/step - loss: 0.2479 - accuracy: 0.9298\n",
            "Epoch 3/5\n",
            "1875/1875 [==============================] - 67s 36ms/step - loss: 0.1979 - accuracy: 0.9446\n",
            "Epoch 4/5\n",
            "1875/1875 [==============================] - 67s 36ms/step - loss: 0.1661 - accuracy: 0.9536\n",
            "Epoch 5/5\n",
            "1875/1875 [==============================] - 67s 36ms/step - loss: 0.1426 - accuracy: 0.9603\n"
          ]
        },
        {
          "output_type": "execute_result",
          "data": {
            "text/plain": [
              "<keras.callbacks.History at 0x7f386daf8490>"
            ]
          },
          "metadata": {},
          "execution_count": 80
        }
      ]
    },
    {
      "cell_type": "code",
      "source": [
        "from sklearn.metrics import confusion_matrix, classification_report\n",
        "import numpy as np \n",
        "y_pred=ann.predict(X_test)\n",
        "y_pred_classes = [np.argmax(element) for element in y_pred]\n",
        "\n",
        "print(\"Classification Report: \\n\", classification_report(y_test, y_pred_classes))"
      ],
      "metadata": {
        "colab": {
          "base_uri": "https://localhost:8080/"
        },
        "id": "87qwEEaU3TgV",
        "outputId": "9ac46d43-206a-417a-8381-33340066320a"
      },
      "execution_count": null,
      "outputs": [
        {
          "output_type": "stream",
          "name": "stdout",
          "text": [
            "Classification Report: \n",
            "               precision    recall  f1-score   support\n",
            "\n",
            "           0       0.97      0.98      0.98       980\n",
            "           1       0.98      0.99      0.98      1135\n",
            "           2       0.97      0.94      0.96      1032\n",
            "           3       0.94      0.97      0.95      1010\n",
            "           4       0.96      0.96      0.96       982\n",
            "           5       0.95      0.95      0.95       892\n",
            "           6       0.96      0.97      0.96       958\n",
            "           7       0.96      0.94      0.95      1028\n",
            "           8       0.96      0.94      0.95       974\n",
            "           9       0.95      0.95      0.95      1009\n",
            "\n",
            "    accuracy                           0.96     10000\n",
            "   macro avg       0.96      0.96      0.96     10000\n",
            "weighted avg       0.96      0.96      0.96     10000\n",
            "\n"
          ]
        }
      ]
    },
    {
      "cell_type": "code",
      "source": [
        "X_train=X_train.reshape(-1,28,28,1)\n",
        "X_train.shape"
      ],
      "metadata": {
        "colab": {
          "base_uri": "https://localhost:8080/"
        },
        "id": "pSMe2nK_3VZU",
        "outputId": "4e875603-2884-4d8a-8cfa-616764993afe"
      },
      "execution_count": null,
      "outputs": [
        {
          "output_type": "execute_result",
          "data": {
            "text/plain": [
              "(60000, 28, 28, 1)"
            ]
          },
          "metadata": {},
          "execution_count": 82
        }
      ]
    },
    {
      "cell_type": "code",
      "source": [
        "X_test=X_test.reshape(-1,28,28,1)\n",
        "X_test.shape"
      ],
      "metadata": {
        "colab": {
          "base_uri": "https://localhost:8080/"
        },
        "id": "E5Zqk3tB3phH",
        "outputId": "b2c175ce-4752-4f10-ad14-fccad85c2a37"
      },
      "execution_count": null,
      "outputs": [
        {
          "output_type": "execute_result",
          "data": {
            "text/plain": [
              "(10000, 28, 28, 1)"
            ]
          },
          "metadata": {},
          "execution_count": 83
        }
      ]
    },
    {
      "cell_type": "code",
      "source": [
        "cnn=models.Sequential([\n",
        "                       layers.Conv2D(filters=30, kernel_size=(3,3), activation='relu', input_shape=(28,28,1)),\n",
        "                       layers.MaxPooling2D((2,2)),\n",
        "\n",
        "                       layers.Conv2D(filters=30, kernel_size=(3,3), activation='relu'),\n",
        "                       layers.MaxPooling2D((2,2)),\n",
        "\n",
        "                       layers.Flatten(),\n",
        "                       layers.Dense(20, activation='relu'),\n",
        "                       layers.Dense(10, activation='softmax')\n",
        "])"
      ],
      "metadata": {
        "id": "FkQ5Dl9G3zpW"
      },
      "execution_count": null,
      "outputs": []
    },
    {
      "cell_type": "code",
      "source": [
        "cnn.compile(optimizer='adam',\n",
        "            loss='sparse_categorical_crossentropy',\n",
        "            metrics=['accuracy'])"
      ],
      "metadata": {
        "id": "QqyUYYFO4YPA"
      },
      "execution_count": null,
      "outputs": []
    },
    {
      "cell_type": "code",
      "source": [
        "cnn.fit(X_train, y_train, epochs=10)"
      ],
      "metadata": {
        "colab": {
          "base_uri": "https://localhost:8080/"
        },
        "id": "jxCIXTYT4buO",
        "outputId": "83cf072f-4e55-4589-a515-02eb2e16ca4b"
      },
      "execution_count": null,
      "outputs": [
        {
          "output_type": "stream",
          "name": "stdout",
          "text": [
            "Epoch 1/10\n",
            "1875/1875 [==============================] - 46s 24ms/step - loss: 0.2053 - accuracy: 0.9364\n",
            "Epoch 2/10\n",
            "1875/1875 [==============================] - 48s 25ms/step - loss: 0.0680 - accuracy: 0.9790\n",
            "Epoch 3/10\n",
            "1875/1875 [==============================] - 44s 24ms/step - loss: 0.0505 - accuracy: 0.9847\n",
            "Epoch 4/10\n",
            "1875/1875 [==============================] - 42s 23ms/step - loss: 0.0411 - accuracy: 0.9870\n",
            "Epoch 5/10\n",
            "1875/1875 [==============================] - 43s 23ms/step - loss: 0.0336 - accuracy: 0.9896\n",
            "Epoch 6/10\n",
            "1875/1875 [==============================] - 42s 23ms/step - loss: 0.0277 - accuracy: 0.9912\n",
            "Epoch 7/10\n",
            "1875/1875 [==============================] - 42s 23ms/step - loss: 0.0240 - accuracy: 0.9923\n",
            "Epoch 8/10\n",
            "1875/1875 [==============================] - 42s 22ms/step - loss: 0.0208 - accuracy: 0.9935\n",
            "Epoch 9/10\n",
            "1875/1875 [==============================] - 42s 23ms/step - loss: 0.0172 - accuracy: 0.9942\n",
            "Epoch 10/10\n",
            "1875/1875 [==============================] - 42s 23ms/step - loss: 0.0152 - accuracy: 0.9953\n"
          ]
        },
        {
          "output_type": "execute_result",
          "data": {
            "text/plain": [
              "<keras.callbacks.History at 0x7f386a9746d0>"
            ]
          },
          "metadata": {},
          "execution_count": 86
        }
      ]
    },
    {
      "cell_type": "code",
      "source": [
        "cnn.evaluate(X_test,y_test)"
      ],
      "metadata": {
        "colab": {
          "base_uri": "https://localhost:8080/"
        },
        "id": "ySrV0sik4fLQ",
        "outputId": "5fc5e696-25ef-4557-b873-8f5136a6d06d"
      },
      "execution_count": null,
      "outputs": [
        {
          "output_type": "stream",
          "name": "stdout",
          "text": [
            "313/313 [==============================] - 3s 8ms/step - loss: 0.0337 - accuracy: 0.9896\n"
          ]
        },
        {
          "output_type": "execute_result",
          "data": {
            "text/plain": [
              "[0.03371639549732208, 0.9896000027656555]"
            ]
          },
          "metadata": {},
          "execution_count": 87
        }
      ]
    },
    {
      "cell_type": "code",
      "source": [
        "y_pred=cnn.predict(X_test)\n",
        "y_pred[:5]"
      ],
      "metadata": {
        "colab": {
          "base_uri": "https://localhost:8080/"
        },
        "id": "4wrYzmut4m9X",
        "outputId": "8e3bdd8a-a0a5-4ff1-a6cd-b45d69eb1879"
      },
      "execution_count": null,
      "outputs": [
        {
          "output_type": "execute_result",
          "data": {
            "text/plain": [
              "array([[1.2541933e-10, 5.9573324e-10, 9.4227538e-08, 7.0059465e-09,\n",
              "        3.9431382e-11, 2.2319795e-11, 1.1800426e-14, 9.9999988e-01,\n",
              "        8.7182384e-10, 5.5340291e-08],\n",
              "       [2.1853471e-07, 1.6074295e-05, 9.9998367e-01, 9.3033123e-11,\n",
              "        9.5055599e-09, 4.7779722e-13, 6.3811956e-09, 4.4604636e-09,\n",
              "        3.0535254e-09, 1.1951688e-13],\n",
              "       [5.5620387e-12, 9.9999404e-01, 1.1491212e-08, 5.0532384e-11,\n",
              "        8.6459426e-07, 3.2764341e-08, 2.9252736e-09, 4.9068212e-06,\n",
              "        1.8707277e-07, 1.0662715e-09],\n",
              "       [9.9999321e-01, 1.3810243e-11, 8.9880061e-08, 3.3303221e-14,\n",
              "        2.0208455e-13, 4.2225216e-11, 6.6571829e-06, 1.4238595e-12,\n",
              "        8.0617529e-10, 8.8102869e-10],\n",
              "       [1.3189721e-13, 4.2731223e-08, 2.2707838e-09, 4.5185120e-11,\n",
              "        9.9999058e-01, 2.2245861e-10, 1.4768516e-10, 2.9229282e-08,\n",
              "        3.6209067e-07, 8.8821598e-06]], dtype=float32)"
            ]
          },
          "metadata": {},
          "execution_count": 88
        }
      ]
    },
    {
      "cell_type": "code",
      "source": [
        "y_classes = [np.argmax(element) for element in y_pred]\n",
        "y_classes[:5]"
      ],
      "metadata": {
        "colab": {
          "base_uri": "https://localhost:8080/"
        },
        "id": "V_U0O2e24ql1",
        "outputId": "cf3ec254-aa4e-4787-9c8c-5fe98400460a"
      },
      "execution_count": null,
      "outputs": [
        {
          "output_type": "execute_result",
          "data": {
            "text/plain": [
              "[7, 2, 1, 0, 4]"
            ]
          },
          "metadata": {},
          "execution_count": 89
        }
      ]
    },
    {
      "cell_type": "code",
      "source": [
        "y_test[:5]"
      ],
      "metadata": {
        "colab": {
          "base_uri": "https://localhost:8080/"
        },
        "id": "hU3vpNAX4sCG",
        "outputId": "eb0e64a7-cec3-4303-d6d3-46e21093a98d"
      },
      "execution_count": null,
      "outputs": [
        {
          "output_type": "execute_result",
          "data": {
            "text/plain": [
              "array([7, 2, 1, 0, 4], dtype=uint8)"
            ]
          },
          "metadata": {},
          "execution_count": 90
        }
      ]
    },
    {
      "cell_type": "code",
      "source": [
        ""
      ],
      "metadata": {
        "id": "b8hlsmNq4rds"
      },
      "execution_count": null,
      "outputs": []
    },
    {
      "cell_type": "code",
      "source": [
        "X_train=X_train.reshape(28,28)"
      ],
      "metadata": {
        "colab": {
          "base_uri": "https://localhost:8080/",
          "height": 165
        },
        "id": "s5k0MYf445Oz",
        "outputId": "5b075d69-dbc1-4ade-b85c-82be2b464314"
      },
      "execution_count": null,
      "outputs": [
        {
          "output_type": "error",
          "ename": "ValueError",
          "evalue": "ignored",
          "traceback": [
            "\u001b[0;31m---------------------------------------------------------------------------\u001b[0m",
            "\u001b[0;31mValueError\u001b[0m                                Traceback (most recent call last)",
            "\u001b[0;32m<ipython-input-94-450f48dfdefe>\u001b[0m in \u001b[0;36m<module>\u001b[0;34m()\u001b[0m\n\u001b[0;32m----> 1\u001b[0;31m \u001b[0mX_train\u001b[0m\u001b[0;34m=\u001b[0m\u001b[0mX_train\u001b[0m\u001b[0;34m.\u001b[0m\u001b[0mreshape\u001b[0m\u001b[0;34m(\u001b[0m\u001b[0;36m28\u001b[0m\u001b[0;34m,\u001b[0m\u001b[0;36m28\u001b[0m\u001b[0;34m)\u001b[0m\u001b[0;34m\u001b[0m\u001b[0;34m\u001b[0m\u001b[0m\n\u001b[0m",
            "\u001b[0;31mValueError\u001b[0m: cannot reshape array of size 47040000 into shape (28,28)"
          ]
        }
      ]
    },
    {
      "cell_type": "code",
      "source": [
        ""
      ],
      "metadata": {
        "id": "Q3kW8Jay7Q5F"
      },
      "execution_count": null,
      "outputs": []
    }
  ]
}