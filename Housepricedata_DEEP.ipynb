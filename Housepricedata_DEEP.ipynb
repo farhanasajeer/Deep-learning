{
  "nbformat": 4,
  "nbformat_minor": 0,
  "metadata": {
    "colab": {
      "name": "Housepricedata-DEEP.ipynb",
      "provenance": [],
      "collapsed_sections": []
    },
    "kernelspec": {
      "name": "python3",
      "display_name": "Python 3"
    },
    "language_info": {
      "name": "python"
    }
  },
  "cells": [
    {
      "cell_type": "code",
      "execution_count": null,
      "metadata": {
        "id": "ebN7KR04ZoCK"
      },
      "outputs": [],
      "source": [
        "\n",
        "import pandas as pd"
      ]
    },
    {
      "cell_type": "code",
      "source": [
        "df=pd.read_csv('/content/drive/MyDrive/housepricedata.csv')"
      ],
      "metadata": {
        "id": "99PGjOfiaZJA"
      },
      "execution_count": null,
      "outputs": []
    },
    {
      "cell_type": "code",
      "source": [
        "df"
      ],
      "metadata": {
        "colab": {
          "base_uri": "https://localhost:8080/",
          "height": 423
        },
        "id": "enXB0hFob56K",
        "outputId": "47c6c7a0-99a4-4f06-878d-e25a5bfdd5a5"
      },
      "execution_count": null,
      "outputs": [
        {
          "output_type": "execute_result",
          "data": {
            "text/plain": [
              "      LotArea  OverallQual  OverallCond  TotalBsmtSF  FullBath  HalfBath  \\\n",
              "0        8450            7            5          856         2         1   \n",
              "1        9600            6            8         1262         2         0   \n",
              "2       11250            7            5          920         2         1   \n",
              "3        9550            7            5          756         1         0   \n",
              "4       14260            8            5         1145         2         1   \n",
              "...       ...          ...          ...          ...       ...       ...   \n",
              "1455     7917            6            5          953         2         1   \n",
              "1456    13175            6            6         1542         2         0   \n",
              "1457     9042            7            9         1152         2         0   \n",
              "1458     9717            5            6         1078         1         0   \n",
              "1459     9937            5            6         1256         1         1   \n",
              "\n",
              "      BedroomAbvGr  TotRmsAbvGrd  Fireplaces  GarageArea  AboveMedianPrice  \n",
              "0                3             8           0         548                 1  \n",
              "1                3             6           1         460                 1  \n",
              "2                3             6           1         608                 1  \n",
              "3                3             7           1         642                 0  \n",
              "4                4             9           1         836                 1  \n",
              "...            ...           ...         ...         ...               ...  \n",
              "1455             3             7           1         460                 1  \n",
              "1456             3             7           2         500                 1  \n",
              "1457             4             9           2         252                 1  \n",
              "1458             2             5           0         240                 0  \n",
              "1459             3             6           0         276                 0  \n",
              "\n",
              "[1460 rows x 11 columns]"
            ],
            "text/html": [
              "\n",
              "  <div id=\"df-80e33d65-e574-420a-b854-0b7436e2e55d\">\n",
              "    <div class=\"colab-df-container\">\n",
              "      <div>\n",
              "<style scoped>\n",
              "    .dataframe tbody tr th:only-of-type {\n",
              "        vertical-align: middle;\n",
              "    }\n",
              "\n",
              "    .dataframe tbody tr th {\n",
              "        vertical-align: top;\n",
              "    }\n",
              "\n",
              "    .dataframe thead th {\n",
              "        text-align: right;\n",
              "    }\n",
              "</style>\n",
              "<table border=\"1\" class=\"dataframe\">\n",
              "  <thead>\n",
              "    <tr style=\"text-align: right;\">\n",
              "      <th></th>\n",
              "      <th>LotArea</th>\n",
              "      <th>OverallQual</th>\n",
              "      <th>OverallCond</th>\n",
              "      <th>TotalBsmtSF</th>\n",
              "      <th>FullBath</th>\n",
              "      <th>HalfBath</th>\n",
              "      <th>BedroomAbvGr</th>\n",
              "      <th>TotRmsAbvGrd</th>\n",
              "      <th>Fireplaces</th>\n",
              "      <th>GarageArea</th>\n",
              "      <th>AboveMedianPrice</th>\n",
              "    </tr>\n",
              "  </thead>\n",
              "  <tbody>\n",
              "    <tr>\n",
              "      <th>0</th>\n",
              "      <td>8450</td>\n",
              "      <td>7</td>\n",
              "      <td>5</td>\n",
              "      <td>856</td>\n",
              "      <td>2</td>\n",
              "      <td>1</td>\n",
              "      <td>3</td>\n",
              "      <td>8</td>\n",
              "      <td>0</td>\n",
              "      <td>548</td>\n",
              "      <td>1</td>\n",
              "    </tr>\n",
              "    <tr>\n",
              "      <th>1</th>\n",
              "      <td>9600</td>\n",
              "      <td>6</td>\n",
              "      <td>8</td>\n",
              "      <td>1262</td>\n",
              "      <td>2</td>\n",
              "      <td>0</td>\n",
              "      <td>3</td>\n",
              "      <td>6</td>\n",
              "      <td>1</td>\n",
              "      <td>460</td>\n",
              "      <td>1</td>\n",
              "    </tr>\n",
              "    <tr>\n",
              "      <th>2</th>\n",
              "      <td>11250</td>\n",
              "      <td>7</td>\n",
              "      <td>5</td>\n",
              "      <td>920</td>\n",
              "      <td>2</td>\n",
              "      <td>1</td>\n",
              "      <td>3</td>\n",
              "      <td>6</td>\n",
              "      <td>1</td>\n",
              "      <td>608</td>\n",
              "      <td>1</td>\n",
              "    </tr>\n",
              "    <tr>\n",
              "      <th>3</th>\n",
              "      <td>9550</td>\n",
              "      <td>7</td>\n",
              "      <td>5</td>\n",
              "      <td>756</td>\n",
              "      <td>1</td>\n",
              "      <td>0</td>\n",
              "      <td>3</td>\n",
              "      <td>7</td>\n",
              "      <td>1</td>\n",
              "      <td>642</td>\n",
              "      <td>0</td>\n",
              "    </tr>\n",
              "    <tr>\n",
              "      <th>4</th>\n",
              "      <td>14260</td>\n",
              "      <td>8</td>\n",
              "      <td>5</td>\n",
              "      <td>1145</td>\n",
              "      <td>2</td>\n",
              "      <td>1</td>\n",
              "      <td>4</td>\n",
              "      <td>9</td>\n",
              "      <td>1</td>\n",
              "      <td>836</td>\n",
              "      <td>1</td>\n",
              "    </tr>\n",
              "    <tr>\n",
              "      <th>...</th>\n",
              "      <td>...</td>\n",
              "      <td>...</td>\n",
              "      <td>...</td>\n",
              "      <td>...</td>\n",
              "      <td>...</td>\n",
              "      <td>...</td>\n",
              "      <td>...</td>\n",
              "      <td>...</td>\n",
              "      <td>...</td>\n",
              "      <td>...</td>\n",
              "      <td>...</td>\n",
              "    </tr>\n",
              "    <tr>\n",
              "      <th>1455</th>\n",
              "      <td>7917</td>\n",
              "      <td>6</td>\n",
              "      <td>5</td>\n",
              "      <td>953</td>\n",
              "      <td>2</td>\n",
              "      <td>1</td>\n",
              "      <td>3</td>\n",
              "      <td>7</td>\n",
              "      <td>1</td>\n",
              "      <td>460</td>\n",
              "      <td>1</td>\n",
              "    </tr>\n",
              "    <tr>\n",
              "      <th>1456</th>\n",
              "      <td>13175</td>\n",
              "      <td>6</td>\n",
              "      <td>6</td>\n",
              "      <td>1542</td>\n",
              "      <td>2</td>\n",
              "      <td>0</td>\n",
              "      <td>3</td>\n",
              "      <td>7</td>\n",
              "      <td>2</td>\n",
              "      <td>500</td>\n",
              "      <td>1</td>\n",
              "    </tr>\n",
              "    <tr>\n",
              "      <th>1457</th>\n",
              "      <td>9042</td>\n",
              "      <td>7</td>\n",
              "      <td>9</td>\n",
              "      <td>1152</td>\n",
              "      <td>2</td>\n",
              "      <td>0</td>\n",
              "      <td>4</td>\n",
              "      <td>9</td>\n",
              "      <td>2</td>\n",
              "      <td>252</td>\n",
              "      <td>1</td>\n",
              "    </tr>\n",
              "    <tr>\n",
              "      <th>1458</th>\n",
              "      <td>9717</td>\n",
              "      <td>5</td>\n",
              "      <td>6</td>\n",
              "      <td>1078</td>\n",
              "      <td>1</td>\n",
              "      <td>0</td>\n",
              "      <td>2</td>\n",
              "      <td>5</td>\n",
              "      <td>0</td>\n",
              "      <td>240</td>\n",
              "      <td>0</td>\n",
              "    </tr>\n",
              "    <tr>\n",
              "      <th>1459</th>\n",
              "      <td>9937</td>\n",
              "      <td>5</td>\n",
              "      <td>6</td>\n",
              "      <td>1256</td>\n",
              "      <td>1</td>\n",
              "      <td>1</td>\n",
              "      <td>3</td>\n",
              "      <td>6</td>\n",
              "      <td>0</td>\n",
              "      <td>276</td>\n",
              "      <td>0</td>\n",
              "    </tr>\n",
              "  </tbody>\n",
              "</table>\n",
              "<p>1460 rows × 11 columns</p>\n",
              "</div>\n",
              "      <button class=\"colab-df-convert\" onclick=\"convertToInteractive('df-80e33d65-e574-420a-b854-0b7436e2e55d')\"\n",
              "              title=\"Convert this dataframe to an interactive table.\"\n",
              "              style=\"display:none;\">\n",
              "        \n",
              "  <svg xmlns=\"http://www.w3.org/2000/svg\" height=\"24px\"viewBox=\"0 0 24 24\"\n",
              "       width=\"24px\">\n",
              "    <path d=\"M0 0h24v24H0V0z\" fill=\"none\"/>\n",
              "    <path d=\"M18.56 5.44l.94 2.06.94-2.06 2.06-.94-2.06-.94-.94-2.06-.94 2.06-2.06.94zm-11 1L8.5 8.5l.94-2.06 2.06-.94-2.06-.94L8.5 2.5l-.94 2.06-2.06.94zm10 10l.94 2.06.94-2.06 2.06-.94-2.06-.94-.94-2.06-.94 2.06-2.06.94z\"/><path d=\"M17.41 7.96l-1.37-1.37c-.4-.4-.92-.59-1.43-.59-.52 0-1.04.2-1.43.59L10.3 9.45l-7.72 7.72c-.78.78-.78 2.05 0 2.83L4 21.41c.39.39.9.59 1.41.59.51 0 1.02-.2 1.41-.59l7.78-7.78 2.81-2.81c.8-.78.8-2.07 0-2.86zM5.41 20L4 18.59l7.72-7.72 1.47 1.35L5.41 20z\"/>\n",
              "  </svg>\n",
              "      </button>\n",
              "      \n",
              "  <style>\n",
              "    .colab-df-container {\n",
              "      display:flex;\n",
              "      flex-wrap:wrap;\n",
              "      gap: 12px;\n",
              "    }\n",
              "\n",
              "    .colab-df-convert {\n",
              "      background-color: #E8F0FE;\n",
              "      border: none;\n",
              "      border-radius: 50%;\n",
              "      cursor: pointer;\n",
              "      display: none;\n",
              "      fill: #1967D2;\n",
              "      height: 32px;\n",
              "      padding: 0 0 0 0;\n",
              "      width: 32px;\n",
              "    }\n",
              "\n",
              "    .colab-df-convert:hover {\n",
              "      background-color: #E2EBFA;\n",
              "      box-shadow: 0px 1px 2px rgba(60, 64, 67, 0.3), 0px 1px 3px 1px rgba(60, 64, 67, 0.15);\n",
              "      fill: #174EA6;\n",
              "    }\n",
              "\n",
              "    [theme=dark] .colab-df-convert {\n",
              "      background-color: #3B4455;\n",
              "      fill: #D2E3FC;\n",
              "    }\n",
              "\n",
              "    [theme=dark] .colab-df-convert:hover {\n",
              "      background-color: #434B5C;\n",
              "      box-shadow: 0px 1px 3px 1px rgba(0, 0, 0, 0.15);\n",
              "      filter: drop-shadow(0px 1px 2px rgba(0, 0, 0, 0.3));\n",
              "      fill: #FFFFFF;\n",
              "    }\n",
              "  </style>\n",
              "\n",
              "      <script>\n",
              "        const buttonEl =\n",
              "          document.querySelector('#df-80e33d65-e574-420a-b854-0b7436e2e55d button.colab-df-convert');\n",
              "        buttonEl.style.display =\n",
              "          google.colab.kernel.accessAllowed ? 'block' : 'none';\n",
              "\n",
              "        async function convertToInteractive(key) {\n",
              "          const element = document.querySelector('#df-80e33d65-e574-420a-b854-0b7436e2e55d');\n",
              "          const dataTable =\n",
              "            await google.colab.kernel.invokeFunction('convertToInteractive',\n",
              "                                                     [key], {});\n",
              "          if (!dataTable) return;\n",
              "\n",
              "          const docLinkHtml = 'Like what you see? Visit the ' +\n",
              "            '<a target=\"_blank\" href=https://colab.research.google.com/notebooks/data_table.ipynb>data table notebook</a>'\n",
              "            + ' to learn more about interactive tables.';\n",
              "          element.innerHTML = '';\n",
              "          dataTable['output_type'] = 'display_data';\n",
              "          await google.colab.output.renderOutput(dataTable, element);\n",
              "          const docLink = document.createElement('div');\n",
              "          docLink.innerHTML = docLinkHtml;\n",
              "          element.appendChild(docLink);\n",
              "        }\n",
              "      </script>\n",
              "    </div>\n",
              "  </div>\n",
              "  "
            ]
          },
          "metadata": {},
          "execution_count": 87
        }
      ]
    },
    {
      "cell_type": "code",
      "source": [
        "dataset=df.values"
      ],
      "metadata": {
        "id": "hrzH_ymjcN_t"
      },
      "execution_count": null,
      "outputs": []
    },
    {
      "cell_type": "code",
      "source": [
        "dataset"
      ],
      "metadata": {
        "colab": {
          "base_uri": "https://localhost:8080/"
        },
        "id": "RbEwA1Tgdp-A",
        "outputId": "59eeed4f-5fc6-4ad4-a91b-96a285926399"
      },
      "execution_count": null,
      "outputs": [
        {
          "output_type": "execute_result",
          "data": {
            "text/plain": [
              "array([[ 8450,     7,     5, ...,     0,   548,     1],\n",
              "       [ 9600,     6,     8, ...,     1,   460,     1],\n",
              "       [11250,     7,     5, ...,     1,   608,     1],\n",
              "       ...,\n",
              "       [ 9042,     7,     9, ...,     2,   252,     1],\n",
              "       [ 9717,     5,     6, ...,     0,   240,     0],\n",
              "       [ 9937,     5,     6, ...,     0,   276,     0]])"
            ]
          },
          "metadata": {},
          "execution_count": 89
        }
      ]
    },
    {
      "cell_type": "code",
      "source": [
        "X = dataset[:,0:10]"
      ],
      "metadata": {
        "id": "9ERfNI5MeFqV"
      },
      "execution_count": null,
      "outputs": []
    },
    {
      "cell_type": "code",
      "source": [
        "Y = dataset[:,10]"
      ],
      "metadata": {
        "id": "1znV_Vgkfhjy"
      },
      "execution_count": null,
      "outputs": []
    },
    {
      "cell_type": "code",
      "source": [
        "from sklearn import preprocessing"
      ],
      "metadata": {
        "id": "mrUjtYpki-1t"
      },
      "execution_count": null,
      "outputs": []
    },
    {
      "cell_type": "code",
      "source": [
        "min_max_scaler = preprocessing.MinMaxScaler()\n",
        "x_scale = min_max_scaler.fit_transform(X)"
      ],
      "metadata": {
        "id": "5QCY0xKDjJha"
      },
      "execution_count": null,
      "outputs": []
    },
    {
      "cell_type": "code",
      "source": [
        "x_scale"
      ],
      "metadata": {
        "colab": {
          "base_uri": "https://localhost:8080/"
        },
        "id": "3pymEfy4jiFI",
        "outputId": "1c636ac1-c555-4f71-faa6-53e8fb8cc746"
      },
      "execution_count": null,
      "outputs": [
        {
          "output_type": "execute_result",
          "data": {
            "text/plain": [
              "array([[0.0334198 , 0.66666667, 0.5       , ..., 0.5       , 0.        ,\n",
              "        0.3864598 ],\n",
              "       [0.03879502, 0.55555556, 0.875     , ..., 0.33333333, 0.33333333,\n",
              "        0.32440056],\n",
              "       [0.04650728, 0.66666667, 0.5       , ..., 0.33333333, 0.33333333,\n",
              "        0.42877292],\n",
              "       ...,\n",
              "       [0.03618687, 0.66666667, 1.        , ..., 0.58333333, 0.66666667,\n",
              "        0.17771509],\n",
              "       [0.03934189, 0.44444444, 0.625     , ..., 0.25      , 0.        ,\n",
              "        0.16925247],\n",
              "       [0.04037019, 0.44444444, 0.625     , ..., 0.33333333, 0.        ,\n",
              "        0.19464034]])"
            ]
          },
          "metadata": {},
          "execution_count": 94
        }
      ]
    },
    {
      "cell_type": "code",
      "source": [
        "from sklearn.model_selection import train_test_split"
      ],
      "metadata": {
        "id": "swFRFBTMc_O3"
      },
      "execution_count": null,
      "outputs": []
    },
    {
      "cell_type": "code",
      "source": [
        "X_train, X_val_and_test, Y_train, Y_val_and_test = train_test_split(x_scale,Y,test_size=0.3)"
      ],
      "metadata": {
        "id": "aVWsUIAsqcKw"
      },
      "execution_count": null,
      "outputs": []
    },
    {
      "cell_type": "code",
      "source": [
        "X_val,X_test,Y_val,Y_test = train_test_split(X_val_and_test,Y_val_and_test,test_size=0.5)"
      ],
      "metadata": {
        "id": "A7R6KHLlkhN0"
      },
      "execution_count": null,
      "outputs": []
    },
    {
      "cell_type": "code",
      "source": [
        "print(X_train.shape, X_val.shape, X_test.shape, Y_train.shape, Y_val.shape, Y_test.shape)"
      ],
      "metadata": {
        "colab": {
          "base_uri": "https://localhost:8080/"
        },
        "id": "DMF2V1WEmKCX",
        "outputId": "38b9cbf0-d2c4-4047-86b2-98ff912692b1"
      },
      "execution_count": null,
      "outputs": [
        {
          "output_type": "stream",
          "name": "stdout",
          "text": [
            "(1022, 10) (219, 10) (219, 10) (1022,) (219,) (219,)\n"
          ]
        }
      ]
    },
    {
      "cell_type": "code",
      "source": [
        "from keras.models import Sequential\n",
        "from keras.layers import Dense"
      ],
      "metadata": {
        "id": "UZXftnxkmNlV"
      },
      "execution_count": null,
      "outputs": []
    },
    {
      "cell_type": "code",
      "source": [
        "model = Sequential([\n",
        "                    Dense(32, activation='relu',input_shape=(10,)),\n",
        "                    Dense(32,activation='relu'),\n",
        "                    Dense(1,activation='sigmoid'),\n",
        "                    ])"
      ],
      "metadata": {
        "id": "GAaXfZVRmPNo"
      },
      "execution_count": null,
      "outputs": []
    },
    {
      "cell_type": "code",
      "source": [
        "model.compile(optimizer='sgd',\n",
        "              loss='binary_crossentropy',\n",
        "              metrics=['accuracy'])"
      ],
      "metadata": {
        "id": "mMneBQy6mSIq"
      },
      "execution_count": null,
      "outputs": []
    },
    {
      "cell_type": "code",
      "source": [
        "hist = model.fit(X_train, Y_train,\n",
        "                 batch_size=32, epochs=100,\n",
        "                 validation_data=(X_val, Y_val))"
      ],
      "metadata": {
        "colab": {
          "base_uri": "https://localhost:8080/"
        },
        "id": "QiRkkAPIm754",
        "outputId": "e08f9baf-f936-43a4-99d9-ea9a629a8677"
      },
      "execution_count": null,
      "outputs": [
        {
          "output_type": "stream",
          "name": "stdout",
          "text": [
            "Epoch 1/100\n",
            "32/32 [==============================] - 1s 7ms/step - loss: 0.6864 - accuracy: 0.6438 - val_loss: 0.6788 - val_accuracy: 0.7123\n",
            "Epoch 2/100\n",
            "32/32 [==============================] - 0s 3ms/step - loss: 0.6773 - accuracy: 0.7348 - val_loss: 0.6698 - val_accuracy: 0.8082\n",
            "Epoch 3/100\n",
            "32/32 [==============================] - 0s 3ms/step - loss: 0.6696 - accuracy: 0.7407 - val_loss: 0.6617 - val_accuracy: 0.7991\n",
            "Epoch 4/100\n",
            "32/32 [==============================] - 0s 3ms/step - loss: 0.6626 - accuracy: 0.7162 - val_loss: 0.6538 - val_accuracy: 0.8037\n",
            "Epoch 5/100\n",
            "32/32 [==============================] - 0s 3ms/step - loss: 0.6551 - accuracy: 0.7407 - val_loss: 0.6454 - val_accuracy: 0.8219\n",
            "Epoch 6/100\n",
            "32/32 [==============================] - 0s 4ms/step - loss: 0.6470 - accuracy: 0.7710 - val_loss: 0.6364 - val_accuracy: 0.8174\n",
            "Epoch 7/100\n",
            "32/32 [==============================] - 0s 2ms/step - loss: 0.6380 - accuracy: 0.7984 - val_loss: 0.6272 - val_accuracy: 0.8311\n",
            "Epoch 8/100\n",
            "32/32 [==============================] - 0s 4ms/step - loss: 0.6295 - accuracy: 0.8121 - val_loss: 0.6185 - val_accuracy: 0.8402\n",
            "Epoch 9/100\n",
            "32/32 [==============================] - 0s 3ms/step - loss: 0.6213 - accuracy: 0.8102 - val_loss: 0.6101 - val_accuracy: 0.8356\n",
            "Epoch 10/100\n",
            "32/32 [==============================] - 0s 3ms/step - loss: 0.6135 - accuracy: 0.8170 - val_loss: 0.6018 - val_accuracy: 0.8356\n",
            "Epoch 11/100\n",
            "32/32 [==============================] - 0s 3ms/step - loss: 0.6056 - accuracy: 0.8151 - val_loss: 0.5934 - val_accuracy: 0.8265\n",
            "Epoch 12/100\n",
            "32/32 [==============================] - 0s 3ms/step - loss: 0.5976 - accuracy: 0.8297 - val_loss: 0.5847 - val_accuracy: 0.8402\n",
            "Epoch 13/100\n",
            "32/32 [==============================] - 0s 3ms/step - loss: 0.5890 - accuracy: 0.8249 - val_loss: 0.5759 - val_accuracy: 0.8356\n",
            "Epoch 14/100\n",
            "32/32 [==============================] - 0s 3ms/step - loss: 0.5805 - accuracy: 0.8307 - val_loss: 0.5668 - val_accuracy: 0.8356\n",
            "Epoch 15/100\n",
            "32/32 [==============================] - 0s 2ms/step - loss: 0.5715 - accuracy: 0.8346 - val_loss: 0.5574 - val_accuracy: 0.8356\n",
            "Epoch 16/100\n",
            "32/32 [==============================] - 0s 3ms/step - loss: 0.5624 - accuracy: 0.8415 - val_loss: 0.5478 - val_accuracy: 0.8402\n",
            "Epoch 17/100\n",
            "32/32 [==============================] - 0s 3ms/step - loss: 0.5529 - accuracy: 0.8425 - val_loss: 0.5380 - val_accuracy: 0.8402\n",
            "Epoch 18/100\n",
            "32/32 [==============================] - 0s 3ms/step - loss: 0.5435 - accuracy: 0.8415 - val_loss: 0.5280 - val_accuracy: 0.8493\n",
            "Epoch 19/100\n",
            "32/32 [==============================] - 0s 3ms/step - loss: 0.5334 - accuracy: 0.8552 - val_loss: 0.5179 - val_accuracy: 0.8539\n",
            "Epoch 20/100\n",
            "32/32 [==============================] - 0s 3ms/step - loss: 0.5235 - accuracy: 0.8513 - val_loss: 0.5076 - val_accuracy: 0.8539\n",
            "Epoch 21/100\n",
            "32/32 [==============================] - 0s 2ms/step - loss: 0.5136 - accuracy: 0.8552 - val_loss: 0.4974 - val_accuracy: 0.8584\n",
            "Epoch 22/100\n",
            "32/32 [==============================] - 0s 4ms/step - loss: 0.5033 - accuracy: 0.8571 - val_loss: 0.4870 - val_accuracy: 0.8630\n",
            "Epoch 23/100\n",
            "32/32 [==============================] - 0s 3ms/step - loss: 0.4931 - accuracy: 0.8581 - val_loss: 0.4768 - val_accuracy: 0.8630\n",
            "Epoch 24/100\n",
            "32/32 [==============================] - 0s 3ms/step - loss: 0.4832 - accuracy: 0.8620 - val_loss: 0.4665 - val_accuracy: 0.8630\n",
            "Epoch 25/100\n",
            "32/32 [==============================] - 0s 3ms/step - loss: 0.4728 - accuracy: 0.8581 - val_loss: 0.4567 - val_accuracy: 0.8584\n",
            "Epoch 26/100\n",
            "32/32 [==============================] - 0s 3ms/step - loss: 0.4630 - accuracy: 0.8689 - val_loss: 0.4466 - val_accuracy: 0.8676\n",
            "Epoch 27/100\n",
            "32/32 [==============================] - 0s 3ms/step - loss: 0.4534 - accuracy: 0.8640 - val_loss: 0.4371 - val_accuracy: 0.8630\n",
            "Epoch 28/100\n",
            "32/32 [==============================] - 0s 2ms/step - loss: 0.4439 - accuracy: 0.8679 - val_loss: 0.4279 - val_accuracy: 0.8676\n",
            "Epoch 29/100\n",
            "32/32 [==============================] - 0s 2ms/step - loss: 0.4345 - accuracy: 0.8708 - val_loss: 0.4189 - val_accuracy: 0.8721\n",
            "Epoch 30/100\n",
            "32/32 [==============================] - 0s 3ms/step - loss: 0.4259 - accuracy: 0.8689 - val_loss: 0.4102 - val_accuracy: 0.8721\n",
            "Epoch 31/100\n",
            "32/32 [==============================] - 0s 2ms/step - loss: 0.4171 - accuracy: 0.8718 - val_loss: 0.4020 - val_accuracy: 0.8767\n",
            "Epoch 32/100\n",
            "32/32 [==============================] - 0s 2ms/step - loss: 0.4087 - accuracy: 0.8728 - val_loss: 0.3943 - val_accuracy: 0.8539\n",
            "Epoch 33/100\n",
            "32/32 [==============================] - 0s 3ms/step - loss: 0.4012 - accuracy: 0.8767 - val_loss: 0.3866 - val_accuracy: 0.8721\n",
            "Epoch 34/100\n",
            "32/32 [==============================] - 0s 3ms/step - loss: 0.3933 - accuracy: 0.8757 - val_loss: 0.3795 - val_accuracy: 0.8767\n",
            "Epoch 35/100\n",
            "32/32 [==============================] - 0s 3ms/step - loss: 0.3859 - accuracy: 0.8718 - val_loss: 0.3730 - val_accuracy: 0.8584\n",
            "Epoch 36/100\n",
            "32/32 [==============================] - 0s 3ms/step - loss: 0.3792 - accuracy: 0.8777 - val_loss: 0.3662 - val_accuracy: 0.8813\n",
            "Epoch 37/100\n",
            "32/32 [==============================] - 0s 3ms/step - loss: 0.3727 - accuracy: 0.8757 - val_loss: 0.3604 - val_accuracy: 0.8676\n",
            "Epoch 38/100\n",
            "32/32 [==============================] - 0s 3ms/step - loss: 0.3672 - accuracy: 0.8738 - val_loss: 0.3545 - val_accuracy: 0.8721\n",
            "Epoch 39/100\n",
            "32/32 [==============================] - 0s 3ms/step - loss: 0.3607 - accuracy: 0.8787 - val_loss: 0.3502 - val_accuracy: 0.8676\n",
            "Epoch 40/100\n",
            "32/32 [==============================] - 0s 2ms/step - loss: 0.3560 - accuracy: 0.8767 - val_loss: 0.3441 - val_accuracy: 0.8721\n",
            "Epoch 41/100\n",
            "32/32 [==============================] - 0s 3ms/step - loss: 0.3506 - accuracy: 0.8816 - val_loss: 0.3396 - val_accuracy: 0.8767\n",
            "Epoch 42/100\n",
            "32/32 [==============================] - 0s 3ms/step - loss: 0.3458 - accuracy: 0.8826 - val_loss: 0.3356 - val_accuracy: 0.8630\n",
            "Epoch 43/100\n",
            "32/32 [==============================] - 0s 3ms/step - loss: 0.3420 - accuracy: 0.8787 - val_loss: 0.3310 - val_accuracy: 0.8767\n",
            "Epoch 44/100\n",
            "32/32 [==============================] - 0s 3ms/step - loss: 0.3371 - accuracy: 0.8806 - val_loss: 0.3274 - val_accuracy: 0.8767\n",
            "Epoch 45/100\n",
            "32/32 [==============================] - 0s 3ms/step - loss: 0.3334 - accuracy: 0.8787 - val_loss: 0.3234 - val_accuracy: 0.8721\n",
            "Epoch 46/100\n",
            "32/32 [==============================] - 0s 3ms/step - loss: 0.3291 - accuracy: 0.8816 - val_loss: 0.3201 - val_accuracy: 0.8813\n",
            "Epoch 47/100\n",
            "32/32 [==============================] - 0s 2ms/step - loss: 0.3260 - accuracy: 0.8796 - val_loss: 0.3171 - val_accuracy: 0.8767\n",
            "Epoch 48/100\n",
            "32/32 [==============================] - 0s 3ms/step - loss: 0.3226 - accuracy: 0.8796 - val_loss: 0.3140 - val_accuracy: 0.8813\n",
            "Epoch 49/100\n",
            "32/32 [==============================] - 0s 2ms/step - loss: 0.3197 - accuracy: 0.8845 - val_loss: 0.3110 - val_accuracy: 0.8767\n",
            "Epoch 50/100\n",
            "32/32 [==============================] - 0s 3ms/step - loss: 0.3163 - accuracy: 0.8806 - val_loss: 0.3083 - val_accuracy: 0.8767\n",
            "Epoch 51/100\n",
            "32/32 [==============================] - 0s 3ms/step - loss: 0.3133 - accuracy: 0.8836 - val_loss: 0.3063 - val_accuracy: 0.8767\n",
            "Epoch 52/100\n",
            "32/32 [==============================] - 0s 3ms/step - loss: 0.3114 - accuracy: 0.8845 - val_loss: 0.3039 - val_accuracy: 0.8767\n",
            "Epoch 53/100\n",
            "32/32 [==============================] - 0s 3ms/step - loss: 0.3087 - accuracy: 0.8855 - val_loss: 0.3014 - val_accuracy: 0.8767\n",
            "Epoch 54/100\n",
            "32/32 [==============================] - 0s 3ms/step - loss: 0.3064 - accuracy: 0.8855 - val_loss: 0.2993 - val_accuracy: 0.8767\n",
            "Epoch 55/100\n",
            "32/32 [==============================] - 0s 3ms/step - loss: 0.3046 - accuracy: 0.8845 - val_loss: 0.2974 - val_accuracy: 0.8721\n",
            "Epoch 56/100\n",
            "32/32 [==============================] - 0s 2ms/step - loss: 0.3021 - accuracy: 0.8855 - val_loss: 0.2955 - val_accuracy: 0.8767\n",
            "Epoch 57/100\n",
            "32/32 [==============================] - 0s 3ms/step - loss: 0.3002 - accuracy: 0.8865 - val_loss: 0.2940 - val_accuracy: 0.8767\n",
            "Epoch 58/100\n",
            "32/32 [==============================] - 0s 3ms/step - loss: 0.2989 - accuracy: 0.8865 - val_loss: 0.2921 - val_accuracy: 0.8721\n",
            "Epoch 59/100\n",
            "32/32 [==============================] - 0s 2ms/step - loss: 0.2963 - accuracy: 0.8904 - val_loss: 0.2908 - val_accuracy: 0.8767\n",
            "Epoch 60/100\n",
            "32/32 [==============================] - 0s 3ms/step - loss: 0.2952 - accuracy: 0.8865 - val_loss: 0.2893 - val_accuracy: 0.8767\n",
            "Epoch 61/100\n",
            "32/32 [==============================] - 0s 3ms/step - loss: 0.2931 - accuracy: 0.8875 - val_loss: 0.2877 - val_accuracy: 0.8721\n",
            "Epoch 62/100\n",
            "32/32 [==============================] - 0s 2ms/step - loss: 0.2916 - accuracy: 0.8885 - val_loss: 0.2871 - val_accuracy: 0.8721\n",
            "Epoch 63/100\n",
            "32/32 [==============================] - 0s 3ms/step - loss: 0.2906 - accuracy: 0.8865 - val_loss: 0.2851 - val_accuracy: 0.8721\n",
            "Epoch 64/100\n",
            "32/32 [==============================] - 0s 3ms/step - loss: 0.2887 - accuracy: 0.8894 - val_loss: 0.2840 - val_accuracy: 0.8721\n",
            "Epoch 65/100\n",
            "32/32 [==============================] - 0s 2ms/step - loss: 0.2875 - accuracy: 0.8943 - val_loss: 0.2830 - val_accuracy: 0.8721\n",
            "Epoch 66/100\n",
            "32/32 [==============================] - 0s 3ms/step - loss: 0.2862 - accuracy: 0.8914 - val_loss: 0.2819 - val_accuracy: 0.8721\n",
            "Epoch 67/100\n",
            "32/32 [==============================] - 0s 3ms/step - loss: 0.2852 - accuracy: 0.8953 - val_loss: 0.2807 - val_accuracy: 0.8721\n",
            "Epoch 68/100\n",
            "32/32 [==============================] - 0s 4ms/step - loss: 0.2842 - accuracy: 0.8933 - val_loss: 0.2797 - val_accuracy: 0.8676\n",
            "Epoch 69/100\n",
            "32/32 [==============================] - 0s 2ms/step - loss: 0.2834 - accuracy: 0.8924 - val_loss: 0.2786 - val_accuracy: 0.8721\n",
            "Epoch 70/100\n",
            "32/32 [==============================] - 0s 3ms/step - loss: 0.2821 - accuracy: 0.8914 - val_loss: 0.2778 - val_accuracy: 0.8721\n",
            "Epoch 71/100\n",
            "32/32 [==============================] - 0s 3ms/step - loss: 0.2810 - accuracy: 0.8943 - val_loss: 0.2771 - val_accuracy: 0.8721\n",
            "Epoch 72/100\n",
            "32/32 [==============================] - 0s 3ms/step - loss: 0.2807 - accuracy: 0.8943 - val_loss: 0.2760 - val_accuracy: 0.8767\n",
            "Epoch 73/100\n",
            "32/32 [==============================] - 0s 2ms/step - loss: 0.2792 - accuracy: 0.8943 - val_loss: 0.2753 - val_accuracy: 0.8676\n",
            "Epoch 74/100\n",
            "32/32 [==============================] - 0s 2ms/step - loss: 0.2776 - accuracy: 0.8953 - val_loss: 0.2744 - val_accuracy: 0.8721\n",
            "Epoch 75/100\n",
            "32/32 [==============================] - 0s 3ms/step - loss: 0.2773 - accuracy: 0.8953 - val_loss: 0.2736 - val_accuracy: 0.8767\n",
            "Epoch 76/100\n",
            "32/32 [==============================] - 0s 3ms/step - loss: 0.2763 - accuracy: 0.8943 - val_loss: 0.2729 - val_accuracy: 0.8767\n",
            "Epoch 77/100\n",
            "32/32 [==============================] - 0s 3ms/step - loss: 0.2752 - accuracy: 0.8982 - val_loss: 0.2723 - val_accuracy: 0.8721\n",
            "Epoch 78/100\n",
            "32/32 [==============================] - 0s 3ms/step - loss: 0.2748 - accuracy: 0.8953 - val_loss: 0.2716 - val_accuracy: 0.8721\n",
            "Epoch 79/100\n",
            "32/32 [==============================] - 0s 3ms/step - loss: 0.2739 - accuracy: 0.8953 - val_loss: 0.2713 - val_accuracy: 0.8676\n",
            "Epoch 80/100\n",
            "32/32 [==============================] - 0s 2ms/step - loss: 0.2729 - accuracy: 0.8973 - val_loss: 0.2702 - val_accuracy: 0.8721\n",
            "Epoch 81/100\n",
            "32/32 [==============================] - 0s 3ms/step - loss: 0.2718 - accuracy: 0.8973 - val_loss: 0.2699 - val_accuracy: 0.8721\n",
            "Epoch 82/100\n",
            "32/32 [==============================] - 0s 2ms/step - loss: 0.2716 - accuracy: 0.8953 - val_loss: 0.2696 - val_accuracy: 0.8721\n",
            "Epoch 83/100\n",
            "32/32 [==============================] - 0s 3ms/step - loss: 0.2710 - accuracy: 0.8973 - val_loss: 0.2690 - val_accuracy: 0.8721\n",
            "Epoch 84/100\n",
            "32/32 [==============================] - 0s 2ms/step - loss: 0.2698 - accuracy: 0.8943 - val_loss: 0.2679 - val_accuracy: 0.8676\n",
            "Epoch 85/100\n",
            "32/32 [==============================] - 0s 3ms/step - loss: 0.2691 - accuracy: 0.8963 - val_loss: 0.2674 - val_accuracy: 0.8721\n",
            "Epoch 86/100\n",
            "32/32 [==============================] - 0s 3ms/step - loss: 0.2680 - accuracy: 0.9002 - val_loss: 0.2670 - val_accuracy: 0.8721\n",
            "Epoch 87/100\n",
            "32/32 [==============================] - 0s 3ms/step - loss: 0.2676 - accuracy: 0.8963 - val_loss: 0.2666 - val_accuracy: 0.8721\n",
            "Epoch 88/100\n",
            "32/32 [==============================] - 0s 2ms/step - loss: 0.2676 - accuracy: 0.8982 - val_loss: 0.2658 - val_accuracy: 0.8676\n",
            "Epoch 89/100\n",
            "32/32 [==============================] - 0s 3ms/step - loss: 0.2665 - accuracy: 0.8982 - val_loss: 0.2654 - val_accuracy: 0.8676\n",
            "Epoch 90/100\n",
            "32/32 [==============================] - 0s 3ms/step - loss: 0.2653 - accuracy: 0.8973 - val_loss: 0.2663 - val_accuracy: 0.8767\n",
            "Epoch 91/100\n",
            "32/32 [==============================] - 0s 2ms/step - loss: 0.2650 - accuracy: 0.9002 - val_loss: 0.2653 - val_accuracy: 0.8767\n",
            "Epoch 92/100\n",
            "32/32 [==============================] - 0s 3ms/step - loss: 0.2649 - accuracy: 0.8992 - val_loss: 0.2649 - val_accuracy: 0.8767\n",
            "Epoch 93/100\n",
            "32/32 [==============================] - 0s 3ms/step - loss: 0.2642 - accuracy: 0.8982 - val_loss: 0.2636 - val_accuracy: 0.8721\n",
            "Epoch 94/100\n",
            "32/32 [==============================] - 0s 3ms/step - loss: 0.2639 - accuracy: 0.9002 - val_loss: 0.2632 - val_accuracy: 0.8721\n",
            "Epoch 95/100\n",
            "32/32 [==============================] - 0s 3ms/step - loss: 0.2637 - accuracy: 0.8973 - val_loss: 0.2631 - val_accuracy: 0.8721\n",
            "Epoch 96/100\n",
            "32/32 [==============================] - 0s 3ms/step - loss: 0.2628 - accuracy: 0.9022 - val_loss: 0.2624 - val_accuracy: 0.8721\n",
            "Epoch 97/100\n",
            "32/32 [==============================] - 0s 3ms/step - loss: 0.2624 - accuracy: 0.8992 - val_loss: 0.2621 - val_accuracy: 0.8676\n",
            "Epoch 98/100\n",
            "32/32 [==============================] - 0s 3ms/step - loss: 0.2618 - accuracy: 0.8973 - val_loss: 0.2625 - val_accuracy: 0.8767\n",
            "Epoch 99/100\n",
            "32/32 [==============================] - 0s 3ms/step - loss: 0.2604 - accuracy: 0.9002 - val_loss: 0.2620 - val_accuracy: 0.8767\n",
            "Epoch 100/100\n",
            "32/32 [==============================] - 0s 3ms/step - loss: 0.2604 - accuracy: 0.8992 - val_loss: 0.2613 - val_accuracy: 0.8676\n"
          ]
        }
      ]
    },
    {
      "cell_type": "code",
      "source": [
        "model.evaluate(X_test,Y_test)[1]"
      ],
      "metadata": {
        "colab": {
          "base_uri": "https://localhost:8080/"
        },
        "id": "uwcph1supU23",
        "outputId": "28250d01-52e9-40c1-aa5a-c6a70510bc21"
      },
      "execution_count": null,
      "outputs": [
        {
          "output_type": "stream",
          "name": "stdout",
          "text": [
            "7/7 [==============================] - 0s 2ms/step - loss: 0.3640 - accuracy: 0.8493\n"
          ]
        },
        {
          "output_type": "execute_result",
          "data": {
            "text/plain": [
              "0.8493150472640991"
            ]
          },
          "metadata": {},
          "execution_count": 103
        }
      ]
    },
    {
      "cell_type": "code",
      "source": [
        "# make probablity predictions with the model\n",
        "# predictions=model.model.predict(X_test)\n",
        "# round predictions\n",
        "# rounded = [round(x[0]) for x in predictions]\n",
        "# print rounded"
      ],
      "metadata": {
        "id": "IRtjOXflpqZk"
      },
      "execution_count": null,
      "outputs": []
    },
    {
      "cell_type": "code",
      "source": [
        "pred=model.predict(X_test)\n",
        "pred"
      ],
      "metadata": {
        "colab": {
          "base_uri": "https://localhost:8080/"
        },
        "id": "Y1fQwis7TcAj",
        "outputId": "d1da444c-54a7-4d86-b778-d37abbc37c50"
      },
      "execution_count": null,
      "outputs": [
        {
          "output_type": "execute_result",
          "data": {
            "text/plain": [
              "array([[0.15748015],\n",
              "       [0.95305264],\n",
              "       [0.8810103 ],\n",
              "       [0.3348986 ],\n",
              "       [0.9728869 ],\n",
              "       [0.80635715],\n",
              "       [0.81045914],\n",
              "       [0.81185365],\n",
              "       [0.02373105],\n",
              "       [0.65596884],\n",
              "       [0.19498366],\n",
              "       [0.7237164 ],\n",
              "       [0.87815934],\n",
              "       [0.5781483 ],\n",
              "       [0.02084786],\n",
              "       [0.9028812 ],\n",
              "       [0.598378  ],\n",
              "       [0.9975434 ],\n",
              "       [0.5921986 ],\n",
              "       [0.7355397 ],\n",
              "       [0.12773734],\n",
              "       [0.02334622],\n",
              "       [0.39234728],\n",
              "       [0.88719034],\n",
              "       [0.9984035 ],\n",
              "       [0.01804495],\n",
              "       [0.9777832 ],\n",
              "       [0.10324472],\n",
              "       [0.6623271 ],\n",
              "       [0.02523553],\n",
              "       [0.7598922 ],\n",
              "       [0.02972788],\n",
              "       [0.01648933],\n",
              "       [0.27023348],\n",
              "       [0.9988299 ],\n",
              "       [0.72386426],\n",
              "       [0.1619981 ],\n",
              "       [0.03932998],\n",
              "       [0.9121362 ],\n",
              "       [0.0223515 ],\n",
              "       [0.8856298 ],\n",
              "       [0.87535906],\n",
              "       [0.221118  ],\n",
              "       [0.03861839],\n",
              "       [0.3419685 ],\n",
              "       [0.30668128],\n",
              "       [0.6302082 ],\n",
              "       [0.6928463 ],\n",
              "       [0.53228295],\n",
              "       [0.8434355 ],\n",
              "       [0.89525795],\n",
              "       [0.7975169 ],\n",
              "       [0.41425967],\n",
              "       [0.12389034],\n",
              "       [0.01163986],\n",
              "       [0.8133641 ],\n",
              "       [0.97923076],\n",
              "       [0.9837364 ],\n",
              "       [0.93137085],\n",
              "       [0.03077215],\n",
              "       [0.7134337 ],\n",
              "       [0.02216461],\n",
              "       [0.17067376],\n",
              "       [0.27614757],\n",
              "       [0.74460447],\n",
              "       [0.01213616],\n",
              "       [0.48635936],\n",
              "       [0.99061143],\n",
              "       [0.08653602],\n",
              "       [0.01594383],\n",
              "       [0.66361177],\n",
              "       [0.94781303],\n",
              "       [0.9056543 ],\n",
              "       [0.01004848],\n",
              "       [0.81118095],\n",
              "       [0.01271555],\n",
              "       [0.21972391],\n",
              "       [0.2850753 ],\n",
              "       [0.01715565],\n",
              "       [0.01874769],\n",
              "       [0.48058102],\n",
              "       [0.59343696],\n",
              "       [0.02621469],\n",
              "       [0.61347353],\n",
              "       [0.7992145 ],\n",
              "       [0.9916246 ],\n",
              "       [0.9486647 ],\n",
              "       [0.9060231 ],\n",
              "       [0.8735342 ],\n",
              "       [0.92758006],\n",
              "       [0.03193676],\n",
              "       [0.3200787 ],\n",
              "       [0.10701874],\n",
              "       [0.01180565],\n",
              "       [0.12212121],\n",
              "       [0.52784324],\n",
              "       [0.986154  ],\n",
              "       [0.03630516],\n",
              "       [0.9263145 ],\n",
              "       [0.7085946 ],\n",
              "       [0.33108777],\n",
              "       [0.0170505 ],\n",
              "       [0.28185812],\n",
              "       [0.04428768],\n",
              "       [0.11159539],\n",
              "       [0.03295416],\n",
              "       [0.04769865],\n",
              "       [0.97847366],\n",
              "       [0.01606575],\n",
              "       [0.33431858],\n",
              "       [0.2813409 ],\n",
              "       [0.40307054],\n",
              "       [0.9779705 ],\n",
              "       [0.9899088 ],\n",
              "       [0.9468702 ],\n",
              "       [0.01166689],\n",
              "       [0.9885496 ],\n",
              "       [0.82721484],\n",
              "       [0.8547953 ],\n",
              "       [0.09361261],\n",
              "       [0.92709374],\n",
              "       [0.01507291],\n",
              "       [0.0745123 ],\n",
              "       [0.03309414],\n",
              "       [0.26222056],\n",
              "       [0.4962699 ],\n",
              "       [0.94165397],\n",
              "       [0.88402027],\n",
              "       [0.9939774 ],\n",
              "       [0.48766896],\n",
              "       [0.03306353],\n",
              "       [0.26609272],\n",
              "       [0.1646828 ],\n",
              "       [0.92749697],\n",
              "       [0.9919833 ],\n",
              "       [0.01510811],\n",
              "       [0.3476442 ],\n",
              "       [0.7447576 ],\n",
              "       [0.8532773 ],\n",
              "       [0.0132288 ],\n",
              "       [0.6400798 ],\n",
              "       [0.12460092],\n",
              "       [0.9080784 ],\n",
              "       [0.03553841],\n",
              "       [0.976605  ],\n",
              "       [0.6668981 ],\n",
              "       [0.04025754],\n",
              "       [0.99584085],\n",
              "       [0.06589836],\n",
              "       [0.41890082],\n",
              "       [0.9925091 ],\n",
              "       [0.99361736],\n",
              "       [0.98178023],\n",
              "       [0.04717994],\n",
              "       [0.29077807],\n",
              "       [0.6865855 ],\n",
              "       [0.0461092 ],\n",
              "       [0.92069125],\n",
              "       [0.01555082],\n",
              "       [0.06147778],\n",
              "       [0.99278307],\n",
              "       [0.08227524],\n",
              "       [0.00912938],\n",
              "       [0.91397774],\n",
              "       [0.47146025],\n",
              "       [0.8822392 ],\n",
              "       [0.01881027],\n",
              "       [0.03011188],\n",
              "       [0.09069142],\n",
              "       [0.0145548 ],\n",
              "       [0.96116734],\n",
              "       [0.01459137],\n",
              "       [0.83732367],\n",
              "       [0.02058288],\n",
              "       [0.9863249 ],\n",
              "       [0.45013434],\n",
              "       [0.84931654],\n",
              "       [0.9664563 ],\n",
              "       [0.98702407],\n",
              "       [0.36415374],\n",
              "       [0.9515149 ],\n",
              "       [0.9876707 ],\n",
              "       [0.9633225 ],\n",
              "       [0.80030656],\n",
              "       [0.9735832 ],\n",
              "       [0.7860348 ],\n",
              "       [0.86922705],\n",
              "       [0.19311675],\n",
              "       [0.9722115 ],\n",
              "       [0.24613208],\n",
              "       [0.99631953],\n",
              "       [0.8757175 ],\n",
              "       [0.21169922],\n",
              "       [0.8514476 ],\n",
              "       [0.85909   ],\n",
              "       [0.33590937],\n",
              "       [0.2844804 ],\n",
              "       [0.9636651 ],\n",
              "       [0.8210752 ],\n",
              "       [0.98568183],\n",
              "       [0.6747509 ],\n",
              "       [0.3859498 ],\n",
              "       [0.5006842 ],\n",
              "       [0.99795926],\n",
              "       [0.9904594 ],\n",
              "       [0.9851232 ],\n",
              "       [0.06661275],\n",
              "       [0.8631982 ],\n",
              "       [0.9409497 ],\n",
              "       [0.01317379],\n",
              "       [0.8053026 ],\n",
              "       [0.9755616 ],\n",
              "       [0.63596034],\n",
              "       [0.90870106],\n",
              "       [0.9995655 ],\n",
              "       [0.5594092 ],\n",
              "       [0.05397391],\n",
              "       [0.97977924],\n",
              "       [0.04736993]], dtype=float32)"
            ]
          },
          "metadata": {},
          "execution_count": 105
        }
      ]
    },
    {
      "cell_type": "code",
      "source": [
        "pred[0]"
      ],
      "metadata": {
        "colab": {
          "base_uri": "https://localhost:8080/"
        },
        "id": "TRXY-W7ITiG1",
        "outputId": "40f40e9d-7db8-46ab-de49-2ad2db889731"
      },
      "execution_count": null,
      "outputs": [
        {
          "output_type": "execute_result",
          "data": {
            "text/plain": [
              "array([0.15748015], dtype=float32)"
            ]
          },
          "metadata": {},
          "execution_count": 108
        }
      ]
    },
    {
      "cell_type": "code",
      "source": [
        "rounded = [round(x[0]) for x in pred]\n",
        "print(rounded[0])"
      ],
      "metadata": {
        "colab": {
          "base_uri": "https://localhost:8080/"
        },
        "id": "wXfEH5mkTo9G",
        "outputId": "dc5e2bfd-2ff2-44d3-d6a0-38d11da245f4"
      },
      "execution_count": null,
      "outputs": [
        {
          "output_type": "stream",
          "name": "stdout",
          "text": [
            "0\n"
          ]
        }
      ]
    },
    {
      "cell_type": "code",
      "source": [
        ""
      ],
      "metadata": {
        "id": "DP9Hc4qWTzwe"
      },
      "execution_count": null,
      "outputs": []
    }
  ]
}