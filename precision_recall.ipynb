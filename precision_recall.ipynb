{
  "nbformat": 4,
  "nbformat_minor": 0,
  "metadata": {
    "colab": {
      "name": "precision_recall.ipynb",
      "provenance": []
    },
    "kernelspec": {
      "name": "python3",
      "display_name": "Python 3"
    },
    "language_info": {
      "name": "python"
    }
  },
  "cells": [
    {
      "cell_type": "markdown",
      "source": [
        ""
      ],
      "metadata": {
        "id": "cq8kQiQfXR2N"
      }
    },
    {
      "cell_type": "code",
      "execution_count": 1,
      "metadata": {
        "id": "To6LM_7XXKWf"
      },
      "outputs": [],
      "source": [
        "from matplotlib import pyplot as plt \n",
        "from sklearn.metrics import confusion_matrix, classification_report\n",
        "import pandas as pd \n",
        "import seaborn as sns"
      ]
    },
    {
      "cell_type": "code",
      "source": [
        "def print_confusion_matrix(confusion_matrix,class_names,figsize=(10,7),fontsize=14):\n",
        "  df_cm=pd.DataFrame(\n",
        "      confusion_matrix, index=class_names, columns=class_names,\n",
        "  )\n",
        "  fig=plt.figure(figsize=figsize)\n",
        "  try:\n",
        "    heatmap=sns.heatmap(df_cm,annot=True,fmt=\"d\")\n",
        "  except ValueError:\n",
        "    raise ValueError(\"Confusion matrix values must be integers.\")\n",
        "  heatmap.yaxis.set_ticklabels(heatmap.yaxis.get_ticklabels(), rotation=0, ha='right', fontsize=fontsize)\n",
        "  heatmap.xaxis.set_ticklabels(heatmap.xaxis.get_ticklabels(), rotation=0, ha='right', fontsize=fontsize)\n",
        "  plt.xlabel('Predicted')\n",
        "  plt.ylabel('Truth')"
      ],
      "metadata": {
        "id": "S5KW5WRzXkiS"
      },
      "execution_count": 3,
      "outputs": []
    },
    {
      "cell_type": "code",
      "source": [
        "Truth=    [\"Dog\",\"Not a dog\",\"Dog\",\"Dog\",     \"Dog\",\"Not a dog\",\"Not a dog\",\"Dog\",     \"Dog\",\"Not a dog\"]\n",
        "Predicted=[\"Dog\",\"Dog\",      \"Dog\",\"Not a dog\",\"Dog\",\"Not a dog\",\"Dog\",     \"Not a dog\",\"Dog\",\"Dog\" ]"
      ],
      "metadata": {
        "id": "OpMAZvS-Xs00"
      },
      "execution_count": 4,
      "outputs": []
    },
    {
      "cell_type": "code",
      "source": [
        "cm=confusion_matrix(Truth,Predicted)\n",
        "print_confusion_matrix(cm,[\"Dog\",\"Not a dog\"])"
      ],
      "metadata": {
        "colab": {
          "base_uri": "https://localhost:8080/",
          "height": 450
        },
        "id": "HtM87eJhapKn",
        "outputId": "d17a22e0-600a-4e00-a2c2-d4bf8c0d5907"
      },
      "execution_count": 5,
      "outputs": [
        {
          "output_type": "display_data",
          "data": {
            "text/plain": [
              "<Figure size 720x504 with 2 Axes>"
            ],
            "image/png": "[encoded data removed]"
          },
          "metadata": {
            "needs_background": "light"
          }
        }
      ]
    },
    {
      "cell_type": "code",
      "source": [
        "print(classification_report(Truth,Predicted))"
      ],
      "metadata": {
        "colab": {
          "base_uri": "https://localhost:8080/"
        },
        "id": "TnutXKi1a2iG",
        "outputId": "9170d5d4-c366-4e1d-e1b3-ae273f38f26c"
      },
      "execution_count": 6,
      "outputs": [
        {
          "output_type": "stream",
          "name": "stdout",
          "text": [
            "              precision    recall  f1-score   support\n",
            "\n",
            "         Dog       0.57      0.67      0.62         6\n",
            "   Not a dog       0.33      0.25      0.29         4\n",
            "\n",
            "    accuracy                           0.50        10\n",
            "   macro avg       0.45      0.46      0.45        10\n",
            "weighted avg       0.48      0.50      0.48        10\n",
            "\n"
          ]
        }
      ]
    },
    {
      "cell_type": "code",
      "source": [
        "# f1 score for dog class\n",
        "\n",
        "2*((0.57*0.67)/(0.57+0.67))"
      ],
      "metadata": {
        "colab": {
          "base_uri": "https://localhost:8080/"
        },
        "id": "SbgosvVka8t_",
        "outputId": "f3261e99-36db-43d3-e95d-4e9fc196d902"
      },
      "execution_count": 7,
      "outputs": [
        {
          "output_type": "execute_result",
          "data": {
            "text/plain": [
              "0.6159677419354839"
            ]
          },
          "metadata": {},
          "execution_count": 7
        }
      ]
    },
    {
      "cell_type": "code",
      "source": [
        "# f1 score for not a dog class\n",
        "\n",
        "2*((0.33*0.25)/(0.33+0.25))"
      ],
      "metadata": {
        "colab": {
          "base_uri": "https://localhost:8080/"
        },
        "id": "KYYkWxQbbLuN",
        "outputId": "a6de0fe9-0a90-4ea1-b8ca-9748746b2678"
      },
      "execution_count": 8,
      "outputs": [
        {
          "output_type": "execute_result",
          "data": {
            "text/plain": [
              "0.2844827586206896"
            ]
          },
          "metadata": {},
          "execution_count": 8
        }
      ]
    },
    {
      "cell_type": "code",
      "source": [
        ""
      ],
      "metadata": {
        "id": "flclg5eybVf4"
      },
      "execution_count": null,
      "outputs": []
    }
  ]
}